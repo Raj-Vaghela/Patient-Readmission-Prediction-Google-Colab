{
  "nbformat": 4,
  "nbformat_minor": 0,
  "metadata": {
    "colab": {
      "provenance": [],
      "authorship_tag": "ABX9TyMpUDk6gksdKwJXqbgTHn/9",
      "include_colab_link": true
    },
    "kernelspec": {
      "name": "python3",
      "display_name": "Python 3"
    },
    "language_info": {
      "name": "python"
    }
  },
  "cells": [
    {
      "cell_type": "markdown",
      "metadata": {
        "id": "view-in-github",
        "colab_type": "text"
      },
      "source": [
        "<a href=\"https://colab.research.google.com/github/Raj-Vaghela/Patient-Readmission-Prediction-Part-1-Google-Colab/blob/main/BDPA_CW_Part_1.ipynb\" target=\"_parent\"><img src=\"https://colab.research.google.com/assets/colab-badge.svg\" alt=\"Open In Colab\"/></a>"
      ]
    },
    {
      "cell_type": "code",
      "execution_count": null,
      "metadata": {
        "id": "imYbgQXX2csP"
      },
      "outputs": [],
      "source": [
        "import pandas as pd\n",
        "import numpy as np\n",
        "import matplotlib.pyplot as plt\n",
        "from scipy.stats import zscore, skew, normaltest"
      ]
    },
    {
      "cell_type": "code",
      "source": [
        "from google.colab import drive\n",
        "drive.mount('/content/drive')"
      ],
      "metadata": {
        "colab": {
          "base_uri": "https://localhost:8080/"
        },
        "id": "RCBx2q8_3tsu",
        "outputId": "781f14fe-eac4-4496-b130-06700ea1f3d3"
      },
      "execution_count": null,
      "outputs": [
        {
          "output_type": "stream",
          "name": "stdout",
          "text": [
            "Drive already mounted at /content/drive; to attempt to forcibly remount, call drive.mount(\"/content/drive\", force_remount=True).\n"
          ]
        }
      ]
    },
    {
      "cell_type": "code",
      "source": [
        "df = pd.read_csv('/content/drive/My Drive/Raj Vaghela/diabetic_data.csv', na_values='?' , low_memory=False)"
      ],
      "metadata": {
        "id": "Nz2sboH22v8N"
      },
      "execution_count": null,
      "outputs": []
    },
    {
      "cell_type": "code",
      "source": [
        "print(df.describe())\n",
        "print('\\nshape of original data:',df.shape)"
      ],
      "metadata": {
        "colab": {
          "base_uri": "https://localhost:8080/"
        },
        "id": "hC5LHs254WHJ",
        "outputId": "4f77043e-c1ee-4729-ed03-5cc71efc992e"
      },
      "execution_count": null,
      "outputs": [
        {
          "output_type": "stream",
          "name": "stdout",
          "text": [
            "       encounter_id   patient_nbr  admission_type_id  \\\n",
            "count  1.017660e+05  1.017660e+05      101766.000000   \n",
            "mean   1.652016e+08  5.433040e+07           2.024006   \n",
            "std    1.026403e+08  3.869636e+07           1.445403   \n",
            "min    1.252200e+04  1.350000e+02           1.000000   \n",
            "25%    8.496119e+07  2.341322e+07           1.000000   \n",
            "50%    1.523890e+08  4.550514e+07           1.000000   \n",
            "75%    2.302709e+08  8.754595e+07           3.000000   \n",
            "max    4.438672e+08  1.895026e+08           8.000000   \n",
            "\n",
            "       discharge_disposition_id  admission_source_id  time_in_hospital  \\\n",
            "count             101766.000000        101766.000000     101766.000000   \n",
            "mean                   3.715642             5.754437          4.395987   \n",
            "std                    5.280166             4.064081          2.985108   \n",
            "min                    1.000000             1.000000          1.000000   \n",
            "25%                    1.000000             1.000000          2.000000   \n",
            "50%                    1.000000             7.000000          4.000000   \n",
            "75%                    4.000000             7.000000          6.000000   \n",
            "max                   28.000000            25.000000         14.000000   \n",
            "\n",
            "       num_lab_procedures  num_procedures  num_medications  number_outpatient  \\\n",
            "count       101766.000000   101766.000000    101766.000000      101766.000000   \n",
            "mean            43.095641        1.339730        16.021844           0.369357   \n",
            "std             19.674362        1.705807         8.127566           1.267265   \n",
            "min              1.000000        0.000000         1.000000           0.000000   \n",
            "25%             31.000000        0.000000        10.000000           0.000000   \n",
            "50%             44.000000        1.000000        15.000000           0.000000   \n",
            "75%             57.000000        2.000000        20.000000           0.000000   \n",
            "max            132.000000        6.000000        81.000000          42.000000   \n",
            "\n",
            "       number_emergency  number_inpatient  number_diagnoses  \n",
            "count     101766.000000     101766.000000     101766.000000  \n",
            "mean           0.197836          0.635566          7.422607  \n",
            "std            0.930472          1.262863          1.933600  \n",
            "min            0.000000          0.000000          1.000000  \n",
            "25%            0.000000          0.000000          6.000000  \n",
            "50%            0.000000          0.000000          8.000000  \n",
            "75%            0.000000          1.000000          9.000000  \n",
            "max           76.000000         21.000000         16.000000  \n",
            "\n",
            "shape of original data: (101766, 50)\n"
          ]
        }
      ]
    },
    {
      "cell_type": "code",
      "source": [
        "df.drop(columns=['encounter_id'], inplace = True)"
      ],
      "metadata": {
        "id": "itF-pKE00AYN"
      },
      "execution_count": null,
      "outputs": []
    },
    {
      "cell_type": "code",
      "source": [
        "missingValues = df.isnull().sum()\n",
        "missingValues = missingValues[missingValues>0]\n",
        "missingPercentage = (missingValues/len(df))*100\n",
        "\n",
        "missingInfo = pd.DataFrame({'Missing Values': missingValues, 'Missing Percentage': missingPercentage})\n",
        "print(missingInfo)\n",
        "print('\\nShape after dropping encounter_id:',df.shape)"
      ],
      "metadata": {
        "colab": {
          "base_uri": "https://localhost:8080/"
        },
        "id": "niLBOK591Ro2",
        "outputId": "c36a6b5e-4436-4311-9c91-139629a18114"
      },
      "execution_count": null,
      "outputs": [
        {
          "output_type": "stream",
          "name": "stdout",
          "text": [
            "                   Missing Values  Missing Percentage\n",
            "race                         2273            2.233555\n",
            "weight                      98569           96.858479\n",
            "payer_code                  40256           39.557416\n",
            "medical_specialty           49949           49.082208\n",
            "diag_1                         21            0.020636\n",
            "diag_2                        358            0.351787\n",
            "diag_3                       1423            1.398306\n",
            "\n",
            "Shape after dropping encounter_id: (101766, 49)\n"
          ]
        }
      ]
    },
    {
      "cell_type": "code",
      "source": [
        "df['readmitted'] = df['readmitted'].replace({'<30':1, '>30':0, 'NO':0}, )\n",
        "unique_values = df['readmitted'].unique()\n",
        "print(unique_values)"
      ],
      "metadata": {
        "colab": {
          "base_uri": "https://localhost:8080/"
        },
        "id": "st-5GW811bat",
        "outputId": "04a6a1fe-330b-46dd-b68e-00fa2725cd02"
      },
      "execution_count": null,
      "outputs": [
        {
          "output_type": "stream",
          "name": "stdout",
          "text": [
            "[0 1]\n"
          ]
        }
      ]
    },
    {
      "cell_type": "code",
      "source": [
        "columns_to_drop_from_ProblemStatement = ['repaglinide','nateglinide','chlorpropamide','glimepiride','acetohexamide','tolbutamide','acarbose','miglitol','troglitazone','tolazamide','examide','citoglipton','glyburide-metformin','glipizide-metformin','glimepiride-pioglitazone','metformin-rosiglitazone','metformin-pioglitazone']\n",
        "col_with_over_90perc_MisVal = missingPercentage[missingPercentage>90].index.tolist()\n",
        "columns_to_drop = columns_to_drop_from_ProblemStatement + col_with_over_90perc_MisVal\n",
        "df.drop(columns=columns_to_drop, inplace=True)\n",
        "print('\\nShape of data after dropping cols mentioned in Problem Statement and cols with more than 90% missing values')\n",
        "print(df.shape)"
      ],
      "metadata": {
        "colab": {
          "base_uri": "https://localhost:8080/"
        },
        "id": "1sGVkeDc2AkZ",
        "outputId": "c51fba70-43d3-4540-e0db-035ce8b7cab0"
      },
      "execution_count": null,
      "outputs": [
        {
          "output_type": "stream",
          "name": "stdout",
          "text": [
            "\n",
            "Shape of data after dropping cols mentioned in Problem Statement and cols with more than 90% missing values\n",
            "(101766, 31)\n"
          ]
        }
      ]
    },
    {
      "cell_type": "code",
      "source": [
        "df_without_null = df.dropna()\n",
        "df_without_null.shape"
      ],
      "metadata": {
        "colab": {
          "base_uri": "https://localhost:8080/"
        },
        "id": "Ppq27r_53jFw",
        "outputId": "56f7d3ed-dc26-4ffb-96b5-b71df47276ae"
      },
      "execution_count": null,
      "outputs": [
        {
          "output_type": "execute_result",
          "data": {
            "text/plain": [
              "(26755, 31)"
            ]
          },
          "metadata": {},
          "execution_count": 59
        }
      ]
    },
    {
      "cell_type": "code",
      "source": [
        "def count_outliers_iqr(data):\n",
        "    Q1 = data.quantile(0.25)\n",
        "    Q3 = data.quantile(0.75)\n",
        "    IQR = Q3 - Q1\n",
        "    lower_bound = Q1 - 1.5 * IQR\n",
        "    upper_bound = Q3 + 1.5 * IQR\n",
        "    outliers = (data < lower_bound) | (data > upper_bound)\n",
        "    return outliers\n",
        "\n",
        "for column in df_without_null.columns:\n",
        "    if df_without_null[column].dtype in ['int64', 'float64']:\n",
        "        outliers = count_outliers_iqr(df_without_null[column])\n",
        "        num_outliers = outliers.sum()\n",
        "        # x = outliers.any(axis=0)\n",
        "        df_no_outliers = df_without_null[~outliers]\n",
        "        print(f\"Number of outliers by IQR in '{column}': {num_outliers}\")\n"
      ],
      "metadata": {
        "colab": {
          "base_uri": "https://localhost:8080/"
        },
        "id": "TxKgn8TU445n",
        "outputId": "83335fa6-ad13-4cd9-fb94-47147dcf0549"
      },
      "execution_count": null,
      "outputs": [
        {
          "output_type": "stream",
          "name": "stdout",
          "text": [
            "Number of outliers by IQR in 'patient_nbr': 0\n",
            "Number of outliers by IQR in 'admission_type_id': 0\n",
            "Number of outliers by IQR in 'discharge_disposition_id': 1755\n",
            "Number of outliers by IQR in 'admission_source_id': 822\n",
            "Number of outliers by IQR in 'time_in_hospital': 517\n",
            "Number of outliers by IQR in 'num_lab_procedures': 64\n",
            "Number of outliers by IQR in 'num_procedures': 1533\n",
            "Number of outliers by IQR in 'num_medications': 768\n",
            "Number of outliers by IQR in 'number_outpatient': 3860\n",
            "Number of outliers by IQR in 'number_emergency': 4050\n",
            "Number of outliers by IQR in 'number_inpatient': 1928\n",
            "Number of outliers by IQR in 'number_diagnoses': 15\n",
            "Number of outliers by IQR in 'readmitted': 2857\n"
          ]
        }
      ]
    },
    {
      "cell_type": "code",
      "source": [
        "df_no_outliers.shape"
      ],
      "metadata": {
        "colab": {
          "base_uri": "https://localhost:8080/"
        },
        "id": "qvgsTS-p6fzp",
        "outputId": "17a70f5d-3fd0-47c2-a613-b0364cdc17a8"
      },
      "execution_count": null,
      "outputs": [
        {
          "output_type": "execute_result",
          "data": {
            "text/plain": [
              "(23898, 31)"
            ]
          },
          "metadata": {},
          "execution_count": 61
        }
      ]
    },
    {
      "cell_type": "code",
      "source": [
        "df_no_outliers.dtypes"
      ],
      "metadata": {
        "colab": {
          "base_uri": "https://localhost:8080/"
        },
        "id": "xaDdkULVGvei",
        "outputId": "f409dd77-d943-4eb2-d76a-19ba1c249c6f"
      },
      "execution_count": null,
      "outputs": [
        {
          "output_type": "execute_result",
          "data": {
            "text/plain": [
              "patient_nbr                  int64\n",
              "race                        object\n",
              "gender                      object\n",
              "age                         object\n",
              "admission_type_id            int64\n",
              "discharge_disposition_id     int64\n",
              "admission_source_id          int64\n",
              "time_in_hospital             int64\n",
              "payer_code                  object\n",
              "medical_specialty           object\n",
              "num_lab_procedures           int64\n",
              "num_procedures               int64\n",
              "num_medications              int64\n",
              "number_outpatient            int64\n",
              "number_emergency             int64\n",
              "number_inpatient             int64\n",
              "diag_1                      object\n",
              "diag_2                      object\n",
              "diag_3                      object\n",
              "number_diagnoses             int64\n",
              "max_glu_serum               object\n",
              "A1Cresult                   object\n",
              "metformin                   object\n",
              "glipizide                   object\n",
              "glyburide                   object\n",
              "pioglitazone                object\n",
              "rosiglitazone               object\n",
              "insulin                     object\n",
              "change                      object\n",
              "diabetesMed                 object\n",
              "readmitted                   int64\n",
              "dtype: object"
            ]
          },
          "metadata": {},
          "execution_count": 62
        }
      ]
    }
  ]
}