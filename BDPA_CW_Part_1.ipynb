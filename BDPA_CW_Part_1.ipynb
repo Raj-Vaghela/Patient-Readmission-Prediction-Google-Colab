{
  "nbformat": 4,
  "nbformat_minor": 0,
  "metadata": {
    "colab": {
      "provenance": [],
      "authorship_tag": "ABX9TyNEVGd53PzsiSaBEewqZZKH",
      "include_colab_link": true
    },
    "kernelspec": {
      "name": "python3",
      "display_name": "Python 3"
    },
    "language_info": {
      "name": "python"
    }
  },
  "cells": [
    {
      "cell_type": "markdown",
      "metadata": {
        "id": "view-in-github",
        "colab_type": "text"
      },
      "source": [
        "<a href=\"https://colab.research.google.com/github/Raj-Vaghela/Patient-Readmission-Prediction-Part-1-Google-Colab/blob/main/BDPA_CW_Part_1.ipynb\" target=\"_parent\"><img src=\"https://colab.research.google.com/assets/colab-badge.svg\" alt=\"Open In Colab\"/></a>"
      ]
    },
    {
      "cell_type": "code",
      "execution_count": 2,
      "metadata": {
        "id": "imYbgQXX2csP"
      },
      "outputs": [],
      "source": [
        "import pandas as pd\n",
        "import numpy as np\n",
        "import matplotlib.pyplot as plt\n",
        "from scipy.stats import zscore, skew, normaltest"
      ]
    },
    {
      "cell_type": "code",
      "source": [
        "from google.colab import drive\n",
        "drive.mount('/content/drive')"
      ],
      "metadata": {
        "colab": {
          "base_uri": "https://localhost:8080/"
        },
        "id": "RCBx2q8_3tsu",
        "outputId": "24721dd1-d423-459a-c8cd-e4f8cf3e28cd"
      },
      "execution_count": 3,
      "outputs": [
        {
          "output_type": "stream",
          "name": "stdout",
          "text": [
            "Mounted at /content/drive\n"
          ]
        }
      ]
    },
    {
      "cell_type": "code",
      "source": [
        "df = pd.read_csv('/content/drive/My Drive/Raj Vaghela/diabetic_data.csv', na_values='?' , low_memory=False)"
      ],
      "metadata": {
        "id": "Nz2sboH22v8N"
      },
      "execution_count": 4,
      "outputs": []
    },
    {
      "cell_type": "code",
      "source": [
        "print(df.describe())\n",
        "print('\\nshape of original data:',df.shape)"
      ],
      "metadata": {
        "colab": {
          "base_uri": "https://localhost:8080/"
        },
        "id": "hC5LHs254WHJ",
        "outputId": "e12895c4-96b0-4ed1-d4ff-28419b8f148c"
      },
      "execution_count": 5,
      "outputs": [
        {
          "output_type": "stream",
          "name": "stdout",
          "text": [
            "       encounter_id   patient_nbr  admission_type_id  \\\n",
            "count  1.017660e+05  1.017660e+05      101766.000000   \n",
            "mean   1.652016e+08  5.433040e+07           2.024006   \n",
            "std    1.026403e+08  3.869636e+07           1.445403   \n",
            "min    1.252200e+04  1.350000e+02           1.000000   \n",
            "25%    8.496119e+07  2.341322e+07           1.000000   \n",
            "50%    1.523890e+08  4.550514e+07           1.000000   \n",
            "75%    2.302709e+08  8.754595e+07           3.000000   \n",
            "max    4.438672e+08  1.895026e+08           8.000000   \n",
            "\n",
            "       discharge_disposition_id  admission_source_id  time_in_hospital  \\\n",
            "count             101766.000000        101766.000000     101766.000000   \n",
            "mean                   3.715642             5.754437          4.395987   \n",
            "std                    5.280166             4.064081          2.985108   \n",
            "min                    1.000000             1.000000          1.000000   \n",
            "25%                    1.000000             1.000000          2.000000   \n",
            "50%                    1.000000             7.000000          4.000000   \n",
            "75%                    4.000000             7.000000          6.000000   \n",
            "max                   28.000000            25.000000         14.000000   \n",
            "\n",
            "       num_lab_procedures  num_procedures  num_medications  number_outpatient  \\\n",
            "count       101766.000000   101766.000000    101766.000000      101766.000000   \n",
            "mean            43.095641        1.339730        16.021844           0.369357   \n",
            "std             19.674362        1.705807         8.127566           1.267265   \n",
            "min              1.000000        0.000000         1.000000           0.000000   \n",
            "25%             31.000000        0.000000        10.000000           0.000000   \n",
            "50%             44.000000        1.000000        15.000000           0.000000   \n",
            "75%             57.000000        2.000000        20.000000           0.000000   \n",
            "max            132.000000        6.000000        81.000000          42.000000   \n",
            "\n",
            "       number_emergency  number_inpatient  number_diagnoses  \n",
            "count     101766.000000     101766.000000     101766.000000  \n",
            "mean           0.197836          0.635566          7.422607  \n",
            "std            0.930472          1.262863          1.933600  \n",
            "min            0.000000          0.000000          1.000000  \n",
            "25%            0.000000          0.000000          6.000000  \n",
            "50%            0.000000          0.000000          8.000000  \n",
            "75%            0.000000          1.000000          9.000000  \n",
            "max           76.000000         21.000000         16.000000  \n",
            "\n",
            "shape of original data: (101766, 50)\n"
          ]
        }
      ]
    },
    {
      "cell_type": "code",
      "source": [
        "df.drop(columns=['encounter_id'], inplace = True)"
      ],
      "metadata": {
        "id": "itF-pKE00AYN"
      },
      "execution_count": 6,
      "outputs": []
    },
    {
      "cell_type": "code",
      "source": [
        "missingValues = df.isnull().sum()\n",
        "missingValues = missingValues[missingValues>0]\n",
        "missingPercentage = (missingValues/len(df))*100\n",
        "\n",
        "missingInfo = pd.DataFrame({'Missing Values': missingValues, 'Missing Percentage': missingPercentage})\n",
        "print(missingInfo)\n",
        "print('\\nShape after dropping encounter_id:',df.shape)"
      ],
      "metadata": {
        "colab": {
          "base_uri": "https://localhost:8080/"
        },
        "id": "niLBOK591Ro2",
        "outputId": "0e47796f-0c5d-486d-fd8b-f7ccaffbc431"
      },
      "execution_count": 7,
      "outputs": [
        {
          "output_type": "stream",
          "name": "stdout",
          "text": [
            "                   Missing Values  Missing Percentage\n",
            "race                         2273            2.233555\n",
            "weight                      98569           96.858479\n",
            "payer_code                  40256           39.557416\n",
            "medical_specialty           49949           49.082208\n",
            "diag_1                         21            0.020636\n",
            "diag_2                        358            0.351787\n",
            "diag_3                       1423            1.398306\n",
            "\n",
            "Shape after dropping encounter_id: (101766, 49)\n"
          ]
        }
      ]
    },
    {
      "cell_type": "code",
      "source": [
        "df['readmitted'] = df['readmitted'].replace({'<30':1, '>30':0, 'NO':0}, )\n",
        "unique_values = df['readmitted'].unique()\n",
        "print(unique_values)"
      ],
      "metadata": {
        "colab": {
          "base_uri": "https://localhost:8080/"
        },
        "id": "st-5GW811bat",
        "outputId": "711a57c6-149c-477e-bec5-2cf8c9455e24"
      },
      "execution_count": 8,
      "outputs": [
        {
          "output_type": "stream",
          "name": "stdout",
          "text": [
            "[0 1]\n"
          ]
        }
      ]
    },
    {
      "cell_type": "code",
      "source": [
        "columns_to_drop_from_ProblemStatement = ['repaglinide','nateglinide','chlorpropamide','glimepiride','acetohexamide','tolbutamide','acarbose','miglitol','troglitazone','tolazamide','examide','citoglipton','glyburide-metformin','glipizide-metformin','glimepiride-pioglitazone','metformin-rosiglitazone','metformin-pioglitazone']\n",
        "col_with_over_90perc_MisVal = missingPercentage[missingPercentage>90].index.tolist()\n",
        "columns_to_drop = columns_to_drop_from_ProblemStatement + col_with_over_90perc_MisVal\n",
        "df.drop(columns=columns_to_drop, inplace=True)\n",
        "print('\\nShape of data after dropping cols mentioned in Problem Statement and cols with more than 90% missing values')\n",
        "print(df.shape)"
      ],
      "metadata": {
        "colab": {
          "base_uri": "https://localhost:8080/"
        },
        "id": "1sGVkeDc2AkZ",
        "outputId": "d8b81877-c9c9-4986-c773-1ee85732fdaf"
      },
      "execution_count": 9,
      "outputs": [
        {
          "output_type": "stream",
          "name": "stdout",
          "text": [
            "\n",
            "Shape of data after dropping cols mentioned in Problem Statement and cols with more than 90% missing values\n",
            "(101766, 31)\n"
          ]
        }
      ]
    },
    {
      "cell_type": "code",
      "source": [
        "df_without_null = df.dropna()\n",
        "df_without_null.shape"
      ],
      "metadata": {
        "colab": {
          "base_uri": "https://localhost:8080/"
        },
        "id": "Ppq27r_53jFw",
        "outputId": "9d54e45c-2dce-4f34-9cdf-5e51cdb9b0c9"
      },
      "execution_count": 10,
      "outputs": [
        {
          "output_type": "execute_result",
          "data": {
            "text/plain": [
              "(26755, 31)"
            ]
          },
          "metadata": {},
          "execution_count": 10
        }
      ]
    },
    {
      "cell_type": "code",
      "source": [
        "def count_outliers_iqr(data):\n",
        "    Q1 = data.quantile(0.25)\n",
        "    Q3 = data.quantile(0.75)\n",
        "    IQR = Q3 - Q1\n",
        "    lower_bound = Q1 - 1.5 * IQR\n",
        "    upper_bound = Q3 + 1.5 * IQR\n",
        "    outliers = (data < lower_bound) | (data > upper_bound)\n",
        "    return outliers\n",
        "\n",
        "for column in df_without_null.columns:\n",
        "    if df_without_null[column].dtype in ['int64', 'float64']:\n",
        "        outliers = count_outliers_iqr(df_without_null[column])\n",
        "        num_outliers = outliers.sum()\n",
        "        # x = outliers.any(axis=0)\n",
        "        df_no_outliers = df_without_null[~outliers]\n",
        "        print(f\"Number of outliers by IQR in '{column}': {num_outliers}\")\n"
      ],
      "metadata": {
        "colab": {
          "base_uri": "https://localhost:8080/"
        },
        "id": "TxKgn8TU445n",
        "outputId": "9bd334e7-43bf-43e1-90b2-fc93c187cf76"
      },
      "execution_count": 11,
      "outputs": [
        {
          "output_type": "stream",
          "name": "stdout",
          "text": [
            "Number of outliers by IQR in 'patient_nbr': 0\n",
            "Number of outliers by IQR in 'admission_type_id': 0\n",
            "Number of outliers by IQR in 'discharge_disposition_id': 1755\n",
            "Number of outliers by IQR in 'admission_source_id': 822\n",
            "Number of outliers by IQR in 'time_in_hospital': 517\n",
            "Number of outliers by IQR in 'num_lab_procedures': 64\n",
            "Number of outliers by IQR in 'num_procedures': 1533\n",
            "Number of outliers by IQR in 'num_medications': 768\n",
            "Number of outliers by IQR in 'number_outpatient': 3860\n",
            "Number of outliers by IQR in 'number_emergency': 4050\n",
            "Number of outliers by IQR in 'number_inpatient': 1928\n",
            "Number of outliers by IQR in 'number_diagnoses': 15\n",
            "Number of outliers by IQR in 'readmitted': 2857\n"
          ]
        }
      ]
    },
    {
      "cell_type": "code",
      "source": [
        "df_no_outliers.shape"
      ],
      "metadata": {
        "colab": {
          "base_uri": "https://localhost:8080/"
        },
        "id": "qvgsTS-p6fzp",
        "outputId": "783c9b63-ba12-44d2-f661-3010b054f337"
      },
      "execution_count": 12,
      "outputs": [
        {
          "output_type": "execute_result",
          "data": {
            "text/plain": [
              "(23898, 31)"
            ]
          },
          "metadata": {},
          "execution_count": 12
        }
      ]
    },
    {
      "cell_type": "code",
      "source": [
        "df_no_outliers.dtypes"
      ],
      "metadata": {
        "colab": {
          "base_uri": "https://localhost:8080/"
        },
        "id": "xaDdkULVGvei",
        "outputId": "c6a525a0-c349-4a2a-c12e-157a7accc29b"
      },
      "execution_count": 13,
      "outputs": [
        {
          "output_type": "execute_result",
          "data": {
            "text/plain": [
              "patient_nbr                  int64\n",
              "race                        object\n",
              "gender                      object\n",
              "age                         object\n",
              "admission_type_id            int64\n",
              "discharge_disposition_id     int64\n",
              "admission_source_id          int64\n",
              "time_in_hospital             int64\n",
              "payer_code                  object\n",
              "medical_specialty           object\n",
              "num_lab_procedures           int64\n",
              "num_procedures               int64\n",
              "num_medications              int64\n",
              "number_outpatient            int64\n",
              "number_emergency             int64\n",
              "number_inpatient             int64\n",
              "diag_1                      object\n",
              "diag_2                      object\n",
              "diag_3                      object\n",
              "number_diagnoses             int64\n",
              "max_glu_serum               object\n",
              "A1Cresult                   object\n",
              "metformin                   object\n",
              "glipizide                   object\n",
              "glyburide                   object\n",
              "pioglitazone                object\n",
              "rosiglitazone               object\n",
              "insulin                     object\n",
              "change                      object\n",
              "diabetesMed                 object\n",
              "readmitted                   int64\n",
              "dtype: object"
            ]
          },
          "metadata": {},
          "execution_count": 13
        }
      ]
    },
    {
      "cell_type": "code",
      "source": [
        "for column in df_no_outliers.select_dtypes(include=['int64', 'float64']).columns:\n",
        "    print(f\"Summary statistics for column '{column}':\")\n",
        "    print(df_no_outliers[column].describe())\n",
        "    print()"
      ],
      "metadata": {
        "colab": {
          "base_uri": "https://localhost:8080/"
        },
        "id": "MAm78tnHoNFB",
        "outputId": "fe23bffc-bd1a-427b-e64a-879f817f9a02"
      },
      "execution_count": 14,
      "outputs": [
        {
          "output_type": "stream",
          "name": "stdout",
          "text": [
            "Summary statistics for column 'patient_nbr':\n",
            "count    2.389800e+04\n",
            "mean     5.693484e+07\n",
            "std      3.722027e+07\n",
            "min      7.290000e+02\n",
            "25%      2.421460e+07\n",
            "50%      4.377687e+07\n",
            "75%      9.221553e+07\n",
            "max      1.893659e+08\n",
            "Name: patient_nbr, dtype: float64\n",
            "\n",
            "Summary statistics for column 'admission_type_id':\n",
            "count    23898.000000\n",
            "mean         2.019667\n",
            "std          0.947303\n",
            "min          1.000000\n",
            "25%          1.000000\n",
            "50%          2.000000\n",
            "75%          3.000000\n",
            "max          6.000000\n",
            "Name: admission_type_id, dtype: float64\n",
            "\n",
            "Summary statistics for column 'discharge_disposition_id':\n",
            "count    23898.000000\n",
            "mean         2.890284\n",
            "std          4.208496\n",
            "min          1.000000\n",
            "25%          1.000000\n",
            "50%          1.000000\n",
            "75%          3.000000\n",
            "max         28.000000\n",
            "Name: discharge_disposition_id, dtype: float64\n",
            "\n",
            "Summary statistics for column 'admission_source_id':\n",
            "count    23898.000000\n",
            "mean         4.956984\n",
            "std          3.522581\n",
            "min          1.000000\n",
            "25%          1.000000\n",
            "50%          7.000000\n",
            "75%          7.000000\n",
            "max         22.000000\n",
            "Name: admission_source_id, dtype: float64\n",
            "\n",
            "Summary statistics for column 'time_in_hospital':\n",
            "count    23898.000000\n",
            "mean         4.285547\n",
            "std          2.947813\n",
            "min          1.000000\n",
            "25%          2.000000\n",
            "50%          4.000000\n",
            "75%          6.000000\n",
            "max         14.000000\n",
            "Name: time_in_hospital, dtype: float64\n",
            "\n",
            "Summary statistics for column 'num_lab_procedures':\n",
            "count    23898.000000\n",
            "mean        40.699598\n",
            "std         19.989549\n",
            "min          1.000000\n",
            "25%         29.000000\n",
            "50%         42.000000\n",
            "75%         54.000000\n",
            "max        121.000000\n",
            "Name: num_lab_procedures, dtype: float64\n",
            "\n",
            "Summary statistics for column 'num_procedures':\n",
            "count    23898.000000\n",
            "mean         1.478115\n",
            "std          1.756998\n",
            "min          0.000000\n",
            "25%          0.000000\n",
            "50%          1.000000\n",
            "75%          2.000000\n",
            "max          6.000000\n",
            "Name: num_procedures, dtype: float64\n",
            "\n",
            "Summary statistics for column 'num_medications':\n",
            "count    23898.000000\n",
            "mean        16.169889\n",
            "std          8.625042\n",
            "min          1.000000\n",
            "25%         10.000000\n",
            "50%         15.000000\n",
            "75%         20.000000\n",
            "max         79.000000\n",
            "Name: num_medications, dtype: float64\n",
            "\n",
            "Summary statistics for column 'number_outpatient':\n",
            "count    23898.000000\n",
            "mean         0.284459\n",
            "std          0.997554\n",
            "min          0.000000\n",
            "25%          0.000000\n",
            "50%          0.000000\n",
            "75%          0.000000\n",
            "max         38.000000\n",
            "Name: number_outpatient, dtype: float64\n",
            "\n",
            "Summary statistics for column 'number_emergency':\n",
            "count    23898.000000\n",
            "mean         0.270859\n",
            "std          1.311055\n",
            "min          0.000000\n",
            "25%          0.000000\n",
            "50%          0.000000\n",
            "75%          0.000000\n",
            "max         76.000000\n",
            "Name: number_emergency, dtype: float64\n",
            "\n",
            "Summary statistics for column 'number_inpatient':\n",
            "count    23898.000000\n",
            "mean         0.581890\n",
            "std          1.192664\n",
            "min          0.000000\n",
            "25%          0.000000\n",
            "50%          0.000000\n",
            "75%          1.000000\n",
            "max         16.000000\n",
            "Name: number_inpatient, dtype: float64\n",
            "\n",
            "Summary statistics for column 'number_diagnoses':\n",
            "count    23898.000000\n",
            "mean         7.318604\n",
            "std          1.904971\n",
            "min          3.000000\n",
            "25%          5.000000\n",
            "50%          8.000000\n",
            "75%          9.000000\n",
            "max         16.000000\n",
            "Name: number_diagnoses, dtype: float64\n",
            "\n",
            "Summary statistics for column 'readmitted':\n",
            "count    23898.0\n",
            "mean         0.0\n",
            "std          0.0\n",
            "min          0.0\n",
            "25%          0.0\n",
            "50%          0.0\n",
            "75%          0.0\n",
            "max          0.0\n",
            "Name: readmitted, dtype: float64\n",
            "\n"
          ]
        }
      ]
    },
    {
      "cell_type": "code",
      "source": [
        "col_to_normalize = ['number_inpatient','number_emergency','number_outpatient','num_medications','num_procedures','num_lab_procedures','time_in_hospital','number_diagnoses']\n",
        "\n",
        "def min_max_scaling(x):\n",
        "    return (x - x.min()) / (x.max() - x.min())\n",
        "\n",
        "df_no_outliers[col_to_normalize] = df_no_outliers[col_to_normalize].apply(min_max_scaling)\n",
        "print(df_no_outliers)"
      ],
      "metadata": {
        "colab": {
          "base_uri": "https://localhost:8080/"
        },
        "id": "AVWEwoZDvQXR",
        "outputId": "9f5cc51e-775e-488d-a33a-44e4a914d590"
      },
      "execution_count": 17,
      "outputs": [
        {
          "output_type": "stream",
          "name": "stdout",
          "text": [
            "        patient_nbr       race  gender       age  admission_type_id  \\\n",
            "20446      20123568  Caucasian  Female   [70-80)                  1   \n",
            "20737      20377854  Caucasian  Female   [60-70)                  2   \n",
            "20824      20408121  Caucasian  Female  [90-100)                  1   \n",
            "21083      20542797  Caucasian    Male   [70-80)                  1   \n",
            "23879       7239654  Caucasian  Female   [70-80)                  1   \n",
            "...             ...        ...     ...       ...                ...   \n",
            "101735    106595208  Caucasian    Male   [70-80)                  2   \n",
            "101743     47293812  Caucasian    Male   [80-90)                  1   \n",
            "101747     33230016  Caucasian  Female   [70-80)                  1   \n",
            "101749    106392411  Caucasian  Female   [70-80)                  3   \n",
            "101764     31693671  Caucasian  Female   [80-90)                  2   \n",
            "\n",
            "        discharge_disposition_id  admission_source_id  time_in_hospital  \\\n",
            "20446                         22                    7          0.461538   \n",
            "20737                          1                    1          0.153846   \n",
            "20824                          1                    7          0.230769   \n",
            "21083                          2                    7          0.692308   \n",
            "23879                          3                    6          0.846154   \n",
            "...                          ...                  ...               ...   \n",
            "101735                         6                    7          0.384615   \n",
            "101743                        13                    7          0.153846   \n",
            "101747                        22                    7          0.538462   \n",
            "101749                         6                    1          0.153846   \n",
            "101764                         3                    7          0.692308   \n",
            "\n",
            "       payer_code           medical_specialty  ...  A1Cresult  metformin  \\\n",
            "20446          MC  Orthopedics-Reconstructive  ...       None         No   \n",
            "20737          MC                  Nephrology  ...       None         No   \n",
            "20824          MC            Emergency/Trauma  ...       None         No   \n",
            "21083          MC            InternalMedicine  ...       None     Steady   \n",
            "23879          UN            InternalMedicine  ...         >8         No   \n",
            "...           ...                         ...  ...        ...        ...   \n",
            "101735         MC            Emergency/Trauma  ...       Norm         No   \n",
            "101743         MC            Emergency/Trauma  ...       None         No   \n",
            "101747         MC            InternalMedicine  ...         >7         No   \n",
            "101749         MC                 Orthopedics  ...       Norm     Steady   \n",
            "101764         MC             Surgery-General  ...       None         No   \n",
            "\n",
            "        glipizide  glyburide  pioglitazone  rosiglitazone insulin change  \\\n",
            "20446          No         No            Up             No  Steady     Ch   \n",
            "20737          No         No            No             No  Steady     No   \n",
            "20824          No         No            No             No      No     No   \n",
            "21083          No         No            No             No  Steady     Ch   \n",
            "23879          No         No            No             No  Steady     No   \n",
            "...           ...        ...           ...            ...     ...    ...   \n",
            "101735         No         No            No             No      Up     Ch   \n",
            "101743         No         Up            No         Steady    Down     Ch   \n",
            "101747         No         No            No             No  Steady     No   \n",
            "101749     Steady         No            No             No  Steady     Ch   \n",
            "101764     Steady         No        Steady             No      Up     Ch   \n",
            "\n",
            "       diabetesMed  readmitted  \n",
            "20446          Yes           0  \n",
            "20737          Yes           0  \n",
            "20824          Yes           0  \n",
            "21083          Yes           0  \n",
            "23879          Yes           0  \n",
            "...            ...         ...  \n",
            "101735         Yes           0  \n",
            "101743         Yes           0  \n",
            "101747         Yes           0  \n",
            "101749         Yes           0  \n",
            "101764         Yes           0  \n",
            "\n",
            "[23898 rows x 31 columns]\n"
          ]
        },
        {
          "output_type": "stream",
          "name": "stderr",
          "text": [
            "<ipython-input-17-17d9ac992ffc>:6: SettingWithCopyWarning: \n",
            "A value is trying to be set on a copy of a slice from a DataFrame.\n",
            "Try using .loc[row_indexer,col_indexer] = value instead\n",
            "\n",
            "See the caveats in the documentation: https://pandas.pydata.org/pandas-docs/stable/user_guide/indexing.html#returning-a-view-versus-a-copy\n",
            "  df_no_outliers[col_to_normalize] = df_no_outliers[col_to_normalize].apply(min_max_scaling)\n"
          ]
        }
      ]
    },
    {
      "cell_type": "code",
      "source": [],
      "metadata": {
        "id": "FEWVuvilQ0oc"
      },
      "execution_count": null,
      "outputs": []
    }
  ]
}